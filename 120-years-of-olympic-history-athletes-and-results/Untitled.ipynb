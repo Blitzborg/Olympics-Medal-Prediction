{
 "cells": [
  {
   "cell_type": "code",
   "execution_count": 3,
   "metadata": {},
   "outputs": [],
   "source": [
    "import plotly.plotly as py\n",
    "import plotly.graph_objs as go\n",
    "\n",
    "import pandas as pd\n",
    "import numpy as np\n",
    "from sklearn.linear_model import LinearRegression\n",
    "from sklearn.isotonic import IsotonicRegression\n",
    "from sklearn.utils import check_random_state"
   ]
  },
  {
   "cell_type": "code",
   "execution_count": 8,
   "metadata": {},
   "outputs": [
    {
     "name": "stdout",
     "output_type": "stream",
     "text": [
      "Automatically created module for IPython interactive environment\n"
     ]
    }
   ],
   "source": [
    "print(__doc__)\n",
    "\n",
    "n = 12\n",
    "x = np.array([1968, 1972, 1976, 1984, 1988, 1992, 1996, 2000, 2004, 2008, 2012, 2016])\n",
    "y = np.array([99, 69, 70, 186, 87, 89, 159, 130, 117, 127, 145, 139])\n",
    "\n",
    "ir = IsotonicRegression()\n",
    "y_ = ir.fit_transform(x, y)\n",
    "\n",
    "lr = LinearRegression()\n",
    "lr.fit(x[:, np.newaxis], y)  # x needs to be 2d for LinearRegression\n",
    "\n",
    "segments = [[[i, y[i]], [i, y_[i]]] for i in range(n)]"
   ]
  },
  {
   "cell_type": "code",
   "execution_count": null,
   "metadata": {},
   "outputs": [],
   "source": []
  }
 ],
 "metadata": {
  "kernelspec": {
   "display_name": "Python 3",
   "language": "python",
   "name": "python3"
  },
  "language_info": {
   "codemirror_mode": {
    "name": "ipython",
    "version": 3
   },
   "file_extension": ".py",
   "mimetype": "text/x-python",
   "name": "python",
   "nbconvert_exporter": "python",
   "pygments_lexer": "ipython3",
   "version": "3.7.1"
  }
 },
 "nbformat": 4,
 "nbformat_minor": 2
}
