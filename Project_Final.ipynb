{
 "cells": [
  {
   "cell_type": "code",
   "execution_count": 43,
   "metadata": {},
   "outputs": [
    {
     "name": "stdout",
     "output_type": "stream",
     "text": [
      "GBR        29\n",
      "SUI        29\n",
      "FRA        29\n",
      "GRE        29\n",
      "ITA        29\n",
      "AUT        28\n",
      "USA        28\n",
      "SWE        28\n",
      "DEN        28\n",
      "NOR        27\n",
      "NED        27\n",
      "HUN        27\n",
      "AUS        27\n",
      "CAN        27\n",
      "BEL        27\n",
      "FIN        26\n",
      "LUX        25\n",
      "ARG        24\n",
      "NZL        24\n",
      "POR        24\n",
      "IND        24\n",
      "MEX        23\n",
      "TUR        23\n",
      "BRA        23\n",
      "ESP        23\n",
      "JPN        22\n",
      "POL        22\n",
      "CHI        22\n",
      "ROU        22\n",
      "URU        21\n",
      "           ..\n",
      "ERI         5\n",
      "GDR         5\n",
      "PLW         5\n",
      "FSM         5\n",
      "TLS         4\n",
      "KIR         4\n",
      "IOA         4\n",
      "BOH         4\n",
      "SRB         4\n",
      "TUV         3\n",
      "MHL         3\n",
      "MNE         3\n",
      "SCG         3\n",
      "YAR         2\n",
      "MAL         2\n",
      "ANZ         2\n",
      "UNK         1\n",
      "Country     1\n",
      "SAA         1\n",
      "NBO         1\n",
      "NFL         1\n",
      "YMD         1\n",
      "CRT         1\n",
      "ROT         1\n",
      "RHO         1\n",
      "UAR         1\n",
      "WIF         1\n",
      "KOS         1\n",
      "EUN         1\n",
      "SSD         1\n",
      "Name: Country, Length: 231, dtype: int64\n",
      "231\n"
     ]
    },
    {
     "data": {
      "text/plain": [
       "\"\\n\\nfor ()\\n\\n\\n# AR example\\nfrom statsmodels.tsa.ar_model import AR\\nfrom random import random\\n# contrived dataset\\ndata = []\\n# fit model\\nmodel = AR(data)\\nmodel_fit = model.fit()\\n# make prediction\\nyhat = model_fit.predict(len(data), len(data))\\nprint(yhat)\\n\\n\\nx=pd.DataFrame(eg['x'])\\ny=pd.DataFrame(eg['y'])\\n\\nn = 12\\nx = np.array([1968, 1972, 1976, 1984, 1988, 1992, 1996, 2000, 2004, 2008, 2012, 2016])\\ny = np.array([99, 69, 70, 186, 87, 89, 159, 130, 117, 127, 145, 139])\\n\\n# #############################################################################\\n# Fit IsotonicRegression and LinearRegression models\\n\\nir = IsotonicRegression()\\n\\ny_ = ir.fit_transform(x, y)\\n\\nlr = LinearRegression()\\nlr.fit(x[:, np.newaxis], y)  # x needs to be 2d for LinearRegression\\n\\n# #############################################################################\\n# Plot result\\n\\nsegments = [[[i, y[i]], [i, y_[i]]] for i in range(n)]\\nlc = LineCollection(segments, zorder=0)\\nlc.set_array(np.ones(len(y)))\\nlc.set_linewidths(np.full(n, 0.5))\\np=(255,255,0)\\nfig = plt.figure()\\nplt.plot(x, y_, 'b.', markersize=12)\\nplt.plot(x, y_, 'y.-', markersize=12)\\nplt.plot(x, lr.predict(x[:, np.newaxis]), 'r-')\\nplt.gca().add_collection(lc)\\nplt.legend(('Data', 'Isotonic Fit', 'Linear Fit'), loc='lower right')\\nplt.title('Isotonic regression')\\n\\n\\nplt.show()\\n\""
      ]
     },
     "execution_count": 43,
     "metadata": {},
     "output_type": "execute_result"
    }
   ],
   "source": [
    "import pandas as pd\n",
    "import numpy as np\n",
    "import matplotlib.pyplot as plt\n",
    "from matplotlib.collections import LineCollection\n",
    "\n",
    "from sklearn.linear_model import LinearRegression\n",
    "from sklearn.isotonic import IsotonicRegression\n",
    "from sklearn.utils import check_random_state\n",
    "from statsmodels.tsa.holtwinters import ExponentialSmoothing\n",
    "from random import random\n",
    "\n",
    "#Importing the Dataset\n",
    "\n",
    "data = pd.read_csv('newfile_summer.csv')\n",
    "bronze=pd.DataFrame(data['Bronze'])\n",
    "silver=pd.DataFrame(data['Silver'])\n",
    "year=pd.DataFrame(data['Year'])\n",
    "gold=pd.DataFrame(data['Gold'])\n",
    "country=pd.DataFrame(data['Country'])\n",
    "\n",
    "#Start of Loop (Country wise)\n",
    "#uniq=country['Country'].unique()\n",
    "uniq=country['Country'].value_counts()\n",
    "\n",
    "#uniqsort()\n",
    "print(uniq)\n",
    "n=len(uniq)\n",
    "print(n)\n",
    "#start a loop (Predicting 3 years)\n",
    "#for i in uniq:\n",
    "# uniq.groupby(i).count()\n",
    "\n",
    "#Finding N\n",
    "#Predict the value of the number of gold, silver and bronze medals for one year\n",
    "#append the data \n",
    "#We can display the number of times a country has participated in olympics\n",
    "#Hence we noticed that some countries have not participated in every olympics\n",
    "#close inner loop\n",
    "#display the graph \n",
    "#close outer loop\n",
    "'''\n",
    "\n",
    "for ()\n",
    "\n",
    "\n",
    "# AR example\n",
    "from statsmodels.tsa.ar_model import AR\n",
    "from random import random\n",
    "# contrived dataset\n",
    "data = []\n",
    "# fit model\n",
    "model = AR(data)\n",
    "model_fit = model.fit()\n",
    "# make prediction\n",
    "yhat = model_fit.predict(len(data), len(data))\n",
    "print(yhat)\n",
    "\n",
    "\n",
    "x=pd.DataFrame(eg['x'])\n",
    "y=pd.DataFrame(eg['y'])\n",
    "\n",
    "n = 12\n",
    "x = np.array([1968, 1972, 1976, 1984, 1988, 1992, 1996, 2000, 2004, 2008, 2012, 2016])\n",
    "y = np.array([99, 69, 70, 186, 87, 89, 159, 130, 117, 127, 145, 139])\n",
    "\n",
    "# #############################################################################\n",
    "# Fit IsotonicRegression and LinearRegression models\n",
    "\n",
    "ir = IsotonicRegression()\n",
    "\n",
    "y_ = ir.fit_transform(x, y)\n",
    "\n",
    "lr = LinearRegression()\n",
    "lr.fit(x[:, np.newaxis], y)  # x needs to be 2d for LinearRegression\n",
    "\n",
    "# #############################################################################\n",
    "# Plot result\n",
    "\n",
    "segments = [[[i, y[i]], [i, y_[i]]] for i in range(n)]\n",
    "lc = LineCollection(segments, zorder=0)\n",
    "lc.set_array(np.ones(len(y)))\n",
    "lc.set_linewidths(np.full(n, 0.5))\n",
    "p=(255,255,0)\n",
    "fig = plt.figure()\n",
    "plt.plot(x, y_, 'b.', markersize=12)\n",
    "plt.plot(x, y_, 'y.-', markersize=12)\n",
    "plt.plot(x, lr.predict(x[:, np.newaxis]), 'r-')\n",
    "plt.gca().add_collection(lc)\n",
    "plt.legend(('Data', 'Isotonic Fit', 'Linear Fit'), loc='lower right')\n",
    "plt.title('Isotonic regression')\n",
    "\n",
    "\n",
    "plt.show()\n",
    "'''"
   ]
  },
  {
   "cell_type": "code",
   "execution_count": 9,
   "metadata": {},
   "outputs": [
    {
     "name": "stdout",
     "output_type": "stream",
     "text": [
      "[10.]\n"
     ]
    }
   ],
   "source": [
    "# AR example\n",
    "from statsmodels.tsa.ar_model import AR\n",
    "from random import random\n",
    "\n",
    "\n",
    "data = []\n",
    "\n",
    "\n",
    "# fit model\n",
    "model = AR(data)\n",
    "model_fit = model.fit()\n",
    "\n",
    "\n",
    "# make prediction\n",
    "yhat = model_fit.predict(len(data), len(data))\n",
    "print(yhat)"
   ]
  },
  {
   "cell_type": "code",
   "execution_count": 13,
   "metadata": {},
   "outputs": [
    {
     "name": "stdout",
     "output_type": "stream",
     "text": [
      "[ 66.125       77.25        77.25       101.95833333]\n"
     ]
    },
    {
     "data": {
      "image/png": "[encoded data removed]",
      "text/plain": [
       "<Figure size 432x288 with 1 Axes>"
      ]
     },
     "metadata": {
      "needs_background": "light"
     },
     "output_type": "display_data"
    }
   ],
   "source": [
    "import pandas as pd\n",
    "import numpy as np\n",
    "import matplotlib.pyplot as plt\n",
    "from matplotlib.collections import LineCollection\n",
    "\n",
    "from sklearn.linear_model import LinearRegression\n",
    "from sklearn.isotonic import IsotonicRegression\n",
    "from sklearn.utils import check_random_state\n",
    "from statsmodels.tsa.holtwinters import ExponentialSmoothing\n",
    "from random import random\n",
    "\n",
    "\n",
    "\n",
    "n = 28\n",
    "x = np.array([1896,1900,1904,1906,1908,1912,1920,1924,1928,1932,1936,1948,1952,1956,1960,1964,1968, 1972, 1976, 1984, 1988, 1992, 1996, 2000,2004,2008,2012,2016])\n",
    "x1 = np.array([1916,1940,1944,1980])\n",
    "\n",
    "y = np.array([11,30,128,12,34,46,111,97,47,81,51,87,83,61,81,95,99,69,70,186,87,89,159,130,117,127,145,139])\n",
    "\n",
    "# #############################################################################\n",
    "# Fit IsotonicRegression and LinearRegression models\n",
    "\n",
    "ir = IsotonicRegression()\n",
    "\n",
    "y_ = ir.fit_transform(x, y)\n",
    "\n",
    "lr = LinearRegression()\n",
    "lr.fit(x[:, np.newaxis], y)  # x needs to be 2d for LinearRegression\n",
    "\n",
    "\n",
    "y1=ir.predict(x1)\n",
    "print(y1)\n",
    "\n",
    "\n",
    "# #############################################################################\n",
    "# Plot result\n",
    "\n",
    "segments = [[[i, y[i]], [i, y_[i]]] for i in range(n)]\n",
    "lc = LineCollection(segments, zorder=0)\n",
    "lc.set_array(np.ones(len(y)))\n",
    "lc.set_linewidths(np.full(n, 0.5))\n",
    "\n",
    "\n",
    "fig = plt.figure()\n",
    "\n",
    "plt.plot(x, y, 'b.', markersize=12)\n",
    "plt.plot(x, y_, 'y.-', markersize=12)\n",
    "plt.plot(x, lr.predict(x[:, np.newaxis]), 'r-')\n",
    "plt.gca().add_collection(lc)\n",
    "plt.legend(('Data', 'Isotonic Fit', 'Linear Fit'), loc='lower right')\n",
    "plt.title('Isotonic regression')\n",
    "\n",
    "plt.show()"
   ]
  },
  {
   "cell_type": "code",
   "execution_count": 2,
   "metadata": {},
   "outputs": [
    {
     "name": "stdout",
     "output_type": "stream",
     "text": [
      "[ 66.125       77.25        77.25       101.95833333]\n"
     ]
    }
   ],
   "source": [
    "print(y1   )"
   ]
  },
  {
   "cell_type": "code",
   "execution_count": null,
   "metadata": {},
   "outputs": [],
   "source": []
  }
 ],
 "metadata": {
  "kernelspec": {
   "display_name": "Python 3",
   "language": "python",
   "name": "python3"
  },
  "language_info": {
   "codemirror_mode": {
    "name": "ipython",
    "version": 3
   },
   "file_extension": ".py",
   "mimetype": "text/x-python",
   "name": "python",
   "nbconvert_exporter": "python",
   "pygments_lexer": "ipython3",
   "version": "3.7.1"
  }
 },
 "nbformat": 4,
 "nbformat_minor": 2
}
